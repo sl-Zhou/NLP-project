{
 "cells": [
  {
   "cell_type": "code",
   "execution_count": 10,
   "metadata": {},
   "outputs": [],
   "source": [
    "import errant\n",
    "import spacy\n",
    "\n",
    "nlp = spacy.load(\"en_core_web_sm\")\n",
    "annotator = errant.load('en', nlp)"
   ]
  },
  {
   "cell_type": "code",
   "execution_count": 15,
   "metadata": {},
   "outputs": [],
   "source": [
    "def process_files(orig_path, cor_path):\n",
    "    edits = []\n",
    "    # Read the text files and split into lines\n",
    "    with open(orig_path, 'r') as file:\n",
    "        orig_texts = file.readlines()\n",
    "    with open(cor_path, 'r') as file:\n",
    "        cor_texts = file.readlines()\n",
    "    \n",
    "    # Assume both files have the same number of lines\n",
    "    for orig, cor in zip(orig_texts, cor_texts):\n",
    "        # Tokenize texts with SpaCy\n",
    "        orig_doc = nlp(orig.strip())\n",
    "        cor_doc = nlp(cor.strip())\n",
    "        # Get ERRANT edits\n",
    "        edits.append(annotator.annotate(orig_doc, cor_doc))\n",
    "\n",
    "    return edits"
   ]
  },
  {
   "cell_type": "code",
   "execution_count": 16,
   "metadata": {},
   "outputs": [],
   "source": [
    "# Paths to your files\n",
    "orig_path = \"./data/source.txt\"\n",
    "cor_path = \"./data/output.txt\"\n",
    "\n",
    "# Process the files\n",
    "edits = process_files(orig_path, cor_path)\n",
    "\n",
    "# Save annotations as M2 format\n",
    "with open(\"gold_standard.m2\", \"w\") as file:\n",
    "    for edit in edits:\n",
    "        file.write(str(edit) + \"\\n\")\n"
   ]
  }
 ],
 "metadata": {
  "kernelspec": {
   "display_name": ".venv",
   "language": "python",
   "name": "python3"
  },
  "language_info": {
   "codemirror_mode": {
    "name": "ipython",
    "version": 3
   },
   "file_extension": ".py",
   "mimetype": "text/x-python",
   "name": "python",
   "nbconvert_exporter": "python",
   "pygments_lexer": "ipython3",
   "version": "3.10.12"
  }
 },
 "nbformat": 4,
 "nbformat_minor": 2
}
