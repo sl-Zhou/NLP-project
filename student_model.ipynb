{
  "metadata": {
    "colab": {
      "private_outputs": true,
      "provenance": []
    },
    "kernelspec": {
      "name": "python3",
      "display_name": "Python 3"
    },
    "language_info": {
      "name": "python",
      "version": "3.10.13",
      "mimetype": "text/x-python",
      "codemirror_mode": {
        "name": "ipython",
        "version": 3
      },
      "pygments_lexer": "ipython3",
      "nbconvert_exporter": "python",
      "file_extension": ".py"
    },
    "varInspector": {
      "cols": {
        "lenName": 16,
        "lenType": 16,
        "lenVar": 40
      },
      "kernels_config": {
        "python": {
          "delete_cmd_postfix": "",
          "delete_cmd_prefix": "del ",
          "library": "var_list.py",
          "varRefreshCmd": "print(var_dic_list())"
        },
        "r": {
          "delete_cmd_postfix": ") ",
          "delete_cmd_prefix": "rm(",
          "library": "var_list.r",
          "varRefreshCmd": "cat(var_dic_list()) "
        }
      },
      "types_to_exclude": [
        "module",
        "function",
        "builtin_function_or_method",
        "instance",
        "_Feature"
      ],
      "window_display": false
    },
    "kaggle": {
      "accelerator": "gpu",
      "dataSources": [
        {
          "sourceId": 5045004,
          "sourceType": "datasetVersion",
          "datasetId": 2928737
        },
        {
          "sourceId": 7105186,
          "sourceType": "datasetVersion",
          "datasetId": 4096151
        }
      ],
      "dockerImageVersionId": 30683,
      "isInternetEnabled": true,
      "language": "python",
      "sourceType": "notebook",
      "isGpuEnabled": true
    }
  },
  "nbformat_minor": 0,
  "nbformat": 4,
  "cells": [
    {
      "cell_type": "markdown",
      "source": [],
      "metadata": {
        "id": "olVpflosFGpf",
        "pycharm": {
          "name": "#%% md\n"
        }
      }
    },
    {
      "cell_type": "code",
      "source": [
        "from google.colab import drive\n",
        "import os\n",
        "\n",
        "drive.flush_and_unmount()\n",
        "\n",
        "drive.mount('/content/drive')\n",
        "\n",
        "!nvidia-smi"
      ],
      "metadata": {
        "id": "vrrx4wDb-MuE",
        "execution": {
          "iopub.status.busy": "2024-04-08T23:25:47.463857Z",
          "iopub.execute_input": "2024-04-08T23:25:47.464211Z",
          "iopub.status.idle": "2024-04-08T23:25:48.468183Z",
          "shell.execute_reply.started": "2024-04-08T23:25:47.464184Z",
          "shell.execute_reply": "2024-04-08T23:25:48.467044Z"
        },
        "trusted": true
      },
      "execution_count": null,
      "outputs": []
    },
    {
      "cell_type": "code",
      "source": [
        "# Import necessary libraries\n",
        "import torch\n",
        "from torch.utils.data import Dataset, DataLoader\n",
        "from sklearn.metrics import classification_report, accuracy_score\n",
        "from tqdm import tqdm\n",
        "import pandas as pd\n",
        "import matplotlib.pyplot as plt\n",
        "from sklearn.model_selection import train_test_split\n",
        "from sklearn.metrics import confusion_matrix\n",
        "import seaborn as sns\n",
        "\n",
        "\n",
        "data = pd.read_csv('/content/drive/MyDrive/project/Jfleg4/Jfleg4-2-4.csv')\n",
        "\n",
        "train, test_data = train_test_split(data, test_size=0.2, random_state=42,shuffle=True)\n",
        "train_data, val_data = train_test_split(train, test_size=0.125, random_state=42, shuffle=True)\n",
        "\n",
        "# Data Acquisition\n",
        "class GrammarCorrectionDataset(Dataset):\n",
        "    def __init__(self, data, tokenizer, max_length=128):\n",
        "        self.data = data\n",
        "        self.tokenizer = tokenizer\n",
        "        self.max_length = max_length\n",
        "\n",
        "    def __len__(self):\n",
        "        return len(self.data)\n",
        "\n",
        "    def __getitem__(self, idx):\n",
        "        # input_text = self.data.iloc[idx]['source']\n",
        "        # output_text = self.data.iloc[idx]['output']\n",
        "        input_text = self.data.iloc[idx]['input']\n",
        "        output_text = self.data.iloc[idx]['target']\n",
        "\n",
        "\n",
        "        input_encoding = tokenizer.encode_plus(\n",
        "            input_text,\n",
        "            max_length=self.max_length,\n",
        "            padding='max_length',\n",
        "            truncation=True,\n",
        "            return_tensors='pt'\n",
        "        )\n",
        "\n",
        "        target_encoding = tokenizer.encode(\n",
        "            output_text,\n",
        "            max_length=self.max_length,\n",
        "            padding='max_length',\n",
        "            truncation=True,\n",
        "            return_tensors='pt'\n",
        "        )\n",
        "\n",
        "        return {\n",
        "            'input_ids': input_encoding['input_ids'].squeeze(0),\n",
        "            'attention_mask': input_encoding['attention_mask'].squeeze(0),\n",
        "            'labels': target_encoding.squeeze(0)\n",
        "        }"
      ],
      "metadata": {
        "id": "O49kkhXQ05KV",
        "execution": {
          "iopub.status.busy": "2024-04-08T23:25:51.223117Z",
          "iopub.execute_input": "2024-04-08T23:25:51.223491Z",
          "iopub.status.idle": "2024-04-08T23:26:00.768241Z",
          "shell.execute_reply.started": "2024-04-08T23:25:51.223458Z",
          "shell.execute_reply": "2024-04-08T23:26:00.767193Z"
        },
        "trusted": true
      },
      "execution_count": null,
      "outputs": []
    },
    {
      "cell_type": "code",
      "source": [
        "from transformers import GPTNeoXForCausalLM, AutoTokenizer\n",
        "\n",
        "model_pythia = GPTNeoXForCausalLM.from_pretrained(\n",
        "  \"EleutherAI/pythia-70m-deduped\",\n",
        "  revision=\"step3000\",\n",
        "  cache_dir=\"./pythia-70m-deduped/step3000\",\n",
        ")\n",
        "\n",
        "tokenizer = AutoTokenizer.from_pretrained(\n",
        "  \"EleutherAI/pythia-70m-deduped\",\n",
        "  revision=\"step3000\",\n",
        "  cache_dir=\"./pythia-70m-deduped/step3000\",\n",
        ")\n",
        "tokenizer.pad_token = tokenizer.eos_token\n",
        "\n",
        "device = torch.device(\"cuda\" if torch.cuda.is_available() else \"cpu\")\n"
      ],
      "metadata": {
        "id": "8WwSGC7bvrmA",
        "execution": {
          "iopub.status.busy": "2024-04-08T23:26:07.276892Z",
          "iopub.execute_input": "2024-04-08T23:26:07.277544Z",
          "iopub.status.idle": "2024-04-08T23:26:10.64283Z",
          "shell.execute_reply.started": "2024-04-08T23:26:07.277517Z",
          "shell.execute_reply": "2024-04-08T23:26:10.641868Z"
        },
        "trusted": true
      },
      "execution_count": null,
      "outputs": []
    },
    {
      "cell_type": "code",
      "source": [
        "from torch.optim import AdamW\n",
        "from tqdm import tqdm\n",
        "from transformers import get_linear_schedule_with_warmup\n",
        "\n",
        "lr = 0.0004\n",
        "epochs = 1\n",
        "batch_size = 32"
      ],
      "metadata": {
        "id": "nxzSecwo40-W",
        "execution": {
          "iopub.status.busy": "2024-04-08T23:26:18.143541Z",
          "iopub.execute_input": "2024-04-08T23:26:18.144544Z",
          "iopub.status.idle": "2024-04-08T23:26:18.157356Z",
          "shell.execute_reply.started": "2024-04-08T23:26:18.144509Z",
          "shell.execute_reply": "2024-04-08T23:26:18.156458Z"
        },
        "trusted": true
      },
      "execution_count": null,
      "outputs": []
    },
    {
      "cell_type": "code",
      "source": [
        "def train_and_evaluate(model, train_loader, val_loader, device, tokenizer, epochs=3):\n",
        "    # Initialize the optimizer and scheduler\n",
        "    optimizer = AdamW(model.parameters(), lr=lr)\n",
        "    scheduler = get_linear_schedule_with_warmup(optimizer, num_warmup_steps=0, num_training_steps=len(train_loader)*epochs)\n",
        "\n",
        "    model.to(device).eval()          # Send the student model to the device\n",
        "\n",
        "    for epoch in range(epochs):\n",
        "\n",
        "        model.train()\n",
        "        total_train_loss = 0.0\n",
        "        all_train_preds, all_train_labels = [], []\n",
        "\n",
        "        for batch in tqdm(train_loader, desc=f\"Training Epoch {epoch + 1}/{epochs}\"):\n",
        "            input_ids = batch['input_ids'].to(device)\n",
        "            attention_mask = batch['attention_mask'].to(device)\n",
        "            labels = batch['labels'].to(device)\n",
        "\n",
        "            optimizer.zero_grad()\n",
        "            outputs = model(input_ids=input_ids, attention_mask=attention_mask, labels=labels)\n",
        "            loss = outputs.loss\n",
        "            loss.backward()\n",
        "            optimizer.step()\n",
        "            scheduler.step()\n",
        "\n",
        "            total_train_loss += loss.item()\n",
        "\n",
        "            # Gather predictions and true labels for accuracy calculation\n",
        "            preds = torch.argmax(outputs.logits, dim=-1)\n",
        "            all_train_preds.extend(preds.view(-1).cpu().numpy())\n",
        "            all_train_labels.extend(labels.view(-1).cpu().numpy())\n",
        "\n",
        "        # Compute training accuracy excluding padding\n",
        "        train_accuracy = accuracy_score(all_train_labels, all_train_preds)\n",
        "\n",
        "        avg_train_loss = total_train_loss / len(train_loader)\n",
        "\n",
        "        # Validation phase\n",
        "        model.eval()\n",
        "        total_val_loss = 0.0\n",
        "        all_val_preds, all_val_labels = [], []\n",
        "\n",
        "        for batch in tqdm(val_loader, desc=f\"Validation Epoch {epoch + 1}/{epochs}\"):\n",
        "            input_ids = batch['input_ids'].to(device)\n",
        "            attention_mask = batch['attention_mask'].to(device)\n",
        "            labels = batch['labels'].to(device)\n",
        "\n",
        "            with torch.no_grad():\n",
        "                outputs = model(input_ids=input_ids, attention_mask=attention_mask, labels=labels)\n",
        "                loss = outputs.loss\n",
        "                total_val_loss += loss.item()\n",
        "\n",
        "                # Gather predictions and true labels for accuracy calculation\n",
        "                preds = torch.argmax(outputs.logits, dim=-1)\n",
        "                all_val_preds.extend(preds.view(-1).cpu().numpy())\n",
        "                all_val_labels.extend(labels.view(-1).cpu().numpy())\n",
        "\n",
        "        # Compute validation accuracy excluding padding\n",
        "        val_accuracy = accuracy_score(all_val_labels, all_val_preds)\n",
        "\n",
        "        avg_val_loss = total_val_loss / len(val_loader)\n",
        "\n",
        "        # Print results for the epoch\n",
        "        print(f\"Epoch {epoch + 1}/{epochs}:\")\n",
        "        print(f\"  T-Loss: {avg_train_loss:.4f} | T-Acc: {train_accuracy:.4f}\")\n",
        "        print(f\"  V-Loss: {avg_val_loss:.4f} | V-Acc: {val_accuracy:.4f}\")\n"
      ],
      "metadata": {
        "id": "RTOolzbFSkoM",
        "execution": {
          "iopub.status.busy": "2024-04-08T23:26:20.519547Z",
          "iopub.execute_input": "2024-04-08T23:26:20.519932Z",
          "iopub.status.idle": "2024-04-08T23:26:20.534145Z",
          "shell.execute_reply.started": "2024-04-08T23:26:20.519901Z",
          "shell.execute_reply": "2024-04-08T23:26:20.533245Z"
        },
        "trusted": true
      },
      "execution_count": null,
      "outputs": []
    },
    {
      "cell_type": "code",
      "source": [
        "model = model_pythia\n",
        "model.to(device)\n",
        "\n",
        "# Create training and validation sets\n",
        "train_dataset = GrammarCorrectionDataset(train_data, tokenizer)\n",
        "val_dataset = GrammarCorrectionDataset(val_data, tokenizer)\n",
        "test_dataset = GrammarCorrectionDataset(test_data, tokenizer)\n",
        "\n",
        "# DataLoader\n",
        "train_loader = DataLoader(train_dataset, batch_size=batch_size, shuffle=True)\n",
        "val_loader = DataLoader(val_dataset, batch_size=batch_size, shuffle=True)\n",
        "test_loader = DataLoader(test_dataset, batch_size=batch_size)\n",
        "\n",
        "# Call the training and evaluation function\n",
        "train_and_evaluate(model, train_loader, val_loader, device, tokenizer, epochs=epochs)"
      ],
      "metadata": {
        "id": "kRB2G79j46F7",
        "execution": {
          "iopub.status.busy": "2024-04-08T23:26:24.35259Z",
          "iopub.execute_input": "2024-04-08T23:26:24.353063Z",
          "iopub.status.idle": "2024-04-08T23:32:52.178063Z",
          "shell.execute_reply.started": "2024-04-08T23:26:24.353033Z",
          "shell.execute_reply": "2024-04-08T23:32:52.177154Z"
        },
        "trusted": true
      },
      "execution_count": null,
      "outputs": []
    },
    {
      "cell_type": "code",
      "source": [
        "# Load model directly\n",
        "from transformers import AutoTokenizer, AutoModelForSeq2SeqLM\n",
        "\n",
        "model_flan_T5_base = AutoModelForSeq2SeqLM.from_pretrained(\"google/flan-t5-base\")\n",
        "tokenizer = AutoTokenizer.from_pretrained(\"google/flan-t5-base\")\n",
        "tokenizer.pad_token = tokenizer.eos_token\n",
        "\n",
        "# Create training and validation sets\n",
        "train_dataset = GrammarCorrectionDataset(train_data, tokenizer)\n",
        "val_dataset = GrammarCorrectionDataset(val_data, tokenizer)\n",
        "test_dataset = GrammarCorrectionDataset(test_data, tokenizer)\n",
        "\n",
        "# DataLoader\n",
        "train_loader = DataLoader(train_dataset, batch_size=batch_size, shuffle=True)\n",
        "val_loader = DataLoader(val_dataset, batch_size=batch_size, shuffle=True)\n",
        "test_loader = DataLoader(test_dataset, batch_size=batch_size)"
      ],
      "metadata": {
        "id": "umPUGnMK4uDQ",
        "execution": {
          "iopub.status.busy": "2024-04-08T23:43:33.312929Z",
          "iopub.execute_input": "2024-04-08T23:43:33.313807Z",
          "iopub.status.idle": "2024-04-08T23:43:39.986939Z",
          "shell.execute_reply.started": "2024-04-08T23:43:33.313772Z",
          "shell.execute_reply": "2024-04-08T23:43:39.986147Z"
        },
        "trusted": true
      },
      "execution_count": null,
      "outputs": []
    },
    {
      "cell_type": "code",
      "source": [
        "model = model_flan_T5_base\n",
        "model.to(device)\n",
        "\n",
        "# Call the training and evaluation function\n",
        "train_and_evaluate(model, train_loader, val_loader, device, tokenizer, epochs=epochs)"
      ],
      "metadata": {
        "id": "8S91vTbt5KmW",
        "execution": {
          "iopub.status.busy": "2024-04-08T23:43:42.975689Z",
          "iopub.execute_input": "2024-04-08T23:43:42.976403Z",
          "iopub.status.idle": "2024-04-08T23:43:44.568297Z",
          "shell.execute_reply.started": "2024-04-08T23:43:42.976359Z",
          "shell.execute_reply": "2024-04-08T23:43:44.567027Z"
        },
        "trusted": true
      },
      "execution_count": null,
      "outputs": []
    }
  ]
}