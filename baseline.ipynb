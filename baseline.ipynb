{
 "cells": [
  {
   "cell_type": "code",
   "execution_count": 1,
   "metadata": {},
   "outputs": [],
   "source": [
    "import pandas as pd"
   ]
  },
  {
   "cell_type": "code",
   "execution_count": 2,
   "metadata": {},
   "outputs": [
    {
     "name": "stderr",
     "output_type": "stream",
     "text": [
      "/home/armin/Desktop/Projects/NLP/NLP-project/.venv/lib/python3.10/site-packages/tqdm/auto.py:21: TqdmWarning: IProgress not found. Please update jupyter and ipywidgets. See https://ipywidgets.readthedocs.io/en/stable/user_install.html\n",
      "  from .autonotebook import tqdm as notebook_tqdm\n",
      "Special tokens have been added in the vocabulary, make sure the associated word embeddings are fine-tuned or trained.\n"
     ]
    }
   ],
   "source": [
    "from transformers import AutoModelForCausalLM, AutoTokenizer\n",
    "\n",
    "model_name = \"EleutherAI/pythia-70m-deduped\"\n",
    "tokenizer = AutoTokenizer.from_pretrained(model_name)\n",
    "model = AutoModelForCausalLM.from_pretrained(model_name)"
   ]
  },
  {
   "cell_type": "code",
   "execution_count": 3,
   "metadata": {},
   "outputs": [],
   "source": [
    "#load that dataset\n",
    "data = pd.read_csv('./Jfleg4-2-4.csv')\n"
   ]
  },
  {
   "cell_type": "code",
   "execution_count": 4,
   "metadata": {},
   "outputs": [],
   "source": [
    "df_unique = data.drop_duplicates(subset=['input'])"
   ]
  },
  {
   "cell_type": "code",
   "execution_count": null,
   "metadata": {},
   "outputs": [],
   "source": [
    "for sentence in df_unique['input']:\n",
    "    sample = df_unique.sample(2)\n",
    "    input_text = f\"\"\" I will give you a sentence which has grammatical errors. You have to give me the corrected version of that sentence. Look at this example:\n",
    "    wrong sentence 1: {sample['input'].iloc[0]}\n",
    "    The corrected version is: {sample['target'].iloc[0]}\n",
    "    wrong sentence 2: {sample['input'].iloc[1]}\n",
    "    The corrected version is: {sample['target'].iloc[1]}\n",
    "    Now you have to correct the following sentence:\n",
    "    {sentence}\n",
    "    \"\"\"\n",
    "    inputs = tokenizer(input_text, return_tensors=\"pt\")\n",
    "    outputs = model.generate(\n",
    "        **inputs, \n",
    "        num_return_sequences=1, \n",
    "        temperature=0.9, \n",
    "        top_p=0.85, \n",
    "        pad_token_id=tokenizer.eos_token_id, \n",
    "        do_sample=True, \n",
    "        no_repeat_ngram_size=3, \n",
    "        # max_length=len(input_text) + len(sentence) + 10,\n",
    "        max_length=len(input_text),\n",
    "        )\n",
    "    generated_text = tokenizer.decode(outputs[0], skip_special_tokens=True)\n",
    "    print(f\"Original sentence: {sentence}\")\n",
    "    print(\"*\"*50)\n",
    "    print(generated_text)\n",
    "    print(\"#\"*50)"
   ]
  }
 ],
 "metadata": {
  "kernelspec": {
   "display_name": ".venv",
   "language": "python",
   "name": "python3"
  },
  "language_info": {
   "codemirror_mode": {
    "name": "ipython",
    "version": 3
   },
   "file_extension": ".py",
   "mimetype": "text/x-python",
   "name": "python",
   "nbconvert_exporter": "python",
   "pygments_lexer": "ipython3",
   "version": "3.10.12"
  }
 },
 "nbformat": 4,
 "nbformat_minor": 2
}
