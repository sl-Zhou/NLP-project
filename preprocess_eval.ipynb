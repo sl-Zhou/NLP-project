{
 "cells": [
  {
   "cell_type": "code",
   "execution_count": 1,
   "metadata": {},
   "outputs": [],
   "source": [
    "import pandas as pd"
   ]
  },
  {
   "cell_type": "code",
   "execution_count": 2,
   "metadata": {},
   "outputs": [],
   "source": [
    "data = pd.read_csv('data/dataset_ft_100.csv')"
   ]
  },
  {
   "cell_type": "code",
   "execution_count": 3,
   "metadata": {},
   "outputs": [
    {
     "data": {
      "text/html": [
       "<div>\n",
       "<style scoped>\n",
       "    .dataframe tbody tr th:only-of-type {\n",
       "        vertical-align: middle;\n",
       "    }\n",
       "\n",
       "    .dataframe tbody tr th {\n",
       "        vertical-align: top;\n",
       "    }\n",
       "\n",
       "    .dataframe thead th {\n",
       "        text-align: right;\n",
       "    }\n",
       "</style>\n",
       "<table border=\"1\" class=\"dataframe\">\n",
       "  <thead>\n",
       "    <tr style=\"text-align: right;\">\n",
       "      <th></th>\n",
       "      <th>input</th>\n",
       "      <th>correct</th>\n",
       "      <th>Tuned Prediction</th>\n",
       "      <th>Base Prediction</th>\n",
       "    </tr>\n",
       "  </thead>\n",
       "  <tbody>\n",
       "    <tr>\n",
       "      <th>0</th>\n",
       "      <td>Medicine nowadays gives us strong belief that ...</td>\n",
       "      <td>Medicine nowadays gives us a strong belief tha...</td>\n",
       "      <td>edicine nowadays gives us strong belief that a...</td>\n",
       "      <td>\\nThe following is a list of the most common c...</td>\n",
       "    </tr>\n",
       "    <tr>\n",
       "      <th>1</th>\n",
       "      <td>Out of the six Generation-IV ( Gen-IV ) nuclea...</td>\n",
       "      <td>Out of the six Generation-IV ( Gen-IV ) nuclea...</td>\n",
       "      <td>t of the six Generation IV reactors that are i...</td>\n",
       "      <td>The reactor is a nuclear power plant that is b...</td>\n",
       "    </tr>\n",
       "    <tr>\n",
       "      <th>2</th>\n",
       "      <td>An high-end maker of gatherites, all Urban Ltd...</td>\n",
       "      <td>High-end furniture supplier, All Urban Ltd, is...</td>\n",
       "      <td>An high-end maker of gatherites, all Urban Ltd...</td>\n",
       "      <td>\\n\\nThe company is a subsidiary of the company...</td>\n",
       "    </tr>\n",
       "    <tr>\n",
       "      <th>3</th>\n",
       "      <td>The Prince of Wales’ visit to Cuba is a boost ...</td>\n",
       "      <td>The Prince of Wales’ visit to Cuba is a boost ...</td>\n",
       "      <td>“We’re delighted to welcome the Prince of Wal...</td>\n",
       "      <td>\\n\\n“The country is a great place to be in the...</td>\n",
       "    </tr>\n",
       "    <tr>\n",
       "      <th>4</th>\n",
       "      <td>Congress, |?|lauta Session, 199 800-806</td>\n",
       "      <td>Congress, Calcutta Session, 199 800-806.</td>\n",
       "      <td>-5-2 (Jan. 11, 2018) | http://www.nytimes.com/...</td>\n",
       "      <td>-5001?\\n\\nA:\\n\\nThe problem is that the \"unive...</td>\n",
       "    </tr>\n",
       "  </tbody>\n",
       "</table>\n",
       "</div>"
      ],
      "text/plain": [
       "                                               input  \\\n",
       "0  Medicine nowadays gives us strong belief that ...   \n",
       "1  Out of the six Generation-IV ( Gen-IV ) nuclea...   \n",
       "2  An high-end maker of gatherites, all Urban Ltd...   \n",
       "3  The Prince of Wales’ visit to Cuba is a boost ...   \n",
       "4            Congress, |?|lauta Session, 199 800-806   \n",
       "\n",
       "                                             correct  \\\n",
       "0  Medicine nowadays gives us a strong belief tha...   \n",
       "1  Out of the six Generation-IV ( Gen-IV ) nuclea...   \n",
       "2  High-end furniture supplier, All Urban Ltd, is...   \n",
       "3  The Prince of Wales’ visit to Cuba is a boost ...   \n",
       "4           Congress, Calcutta Session, 199 800-806.   \n",
       "\n",
       "                                    Tuned Prediction  \\\n",
       "0  edicine nowadays gives us strong belief that a...   \n",
       "1  t of the six Generation IV reactors that are i...   \n",
       "2  An high-end maker of gatherites, all Urban Ltd...   \n",
       "3   “We’re delighted to welcome the Prince of Wal...   \n",
       "4  -5-2 (Jan. 11, 2018) | http://www.nytimes.com/...   \n",
       "\n",
       "                                     Base Prediction  \n",
       "0  \\nThe following is a list of the most common c...  \n",
       "1  The reactor is a nuclear power plant that is b...  \n",
       "2  \\n\\nThe company is a subsidiary of the company...  \n",
       "3  \\n\\n“The country is a great place to be in the...  \n",
       "4  -5001?\\n\\nA:\\n\\nThe problem is that the \"unive...  "
      ]
     },
     "execution_count": 3,
     "metadata": {},
     "output_type": "execute_result"
    }
   ],
   "source": [
    "data.head()"
   ]
  },
  {
   "cell_type": "code",
   "execution_count": 4,
   "metadata": {},
   "outputs": [],
   "source": [
    "def first_non_empty(sentence):\n",
    "    sentences = sentence.split('\\n')\n",
    "    non_empty_sentences = [s.strip() for s in sentences if s.strip()]\n",
    "    return non_empty_sentences[0] if non_empty_sentences else None\n"
   ]
  },
  {
   "cell_type": "code",
   "execution_count": 6,
   "metadata": {},
   "outputs": [],
   "source": [
    "data['tune'] = data['Tuned Prediction'].astype(str).apply(first_non_empty)\n",
    "data['baseline'] = data['Base Prediction'].apply(first_non_empty)\n",
    "del data['Base Prediction']\n",
    "del data['Tuned Prediction']"
   ]
  },
  {
   "cell_type": "code",
   "execution_count": 15,
   "metadata": {},
   "outputs": [],
   "source": [
    "for column in data:\n",
    "    # Create a file path using the column name\n",
    "    file_path = f\"./data/results/{column}.txt\"\n",
    "    # Save the column to a text file\n",
    "    with open(file_path, 'w') as file:\n",
    "        # Write each row's column value followed by a newline\n",
    "        for item in data[column]:\n",
    "            file.write(f\"{item}\\n\")\n"
   ]
  }
 ],
 "metadata": {
  "kernelspec": {
   "display_name": ".venv",
   "language": "python",
   "name": "python3"
  },
  "language_info": {
   "codemirror_mode": {
    "name": "ipython",
    "version": 3
   },
   "file_extension": ".py",
   "mimetype": "text/x-python",
   "name": "python",
   "nbconvert_exporter": "python",
   "pygments_lexer": "ipython3",
   "version": "3.10.12"
  }
 },
 "nbformat": 4,
 "nbformat_minor": 2
}
